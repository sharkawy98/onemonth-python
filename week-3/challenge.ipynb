{
 "nbformat": 4,
 "nbformat_minor": 2,
 "metadata": {
  "language_info": {
   "name": "python",
   "codemirror_mode": {
    "name": "ipython",
    "version": 3
   },
   "version": "3.6.9-final"
  },
  "orig_nbformat": 2,
  "file_extension": ".py",
  "mimetype": "text/x-python",
  "name": "python",
  "npconvert_exporter": "python",
  "pygments_lexer": "ipython3",
  "version": 3,
  "kernelspec": {
   "name": "python36964bit2b6b9479527b4617a699de4563a7b7ee",
   "display_name": "Python 3.6.9 64-bit"
  }
 },
 "cells": [
  {
   "cell_type": "code",
   "execution_count": 2,
   "metadata": {},
   "outputs": [],
   "source": [
    "import pandas as pd \n",
    "\n",
    "headers = ['id', 'title', 'year', 'rate', 'votes', 'length', 'category']\n",
    "\n",
    "data = pd.read_csv('imdb_top_10000.txt', sep='\\t', index_col=0, names=headers)"
   ]
  },
  {
   "cell_type": "markdown",
   "execution_count": null,
   "metadata": {},
   "outputs": [],
   "source": [
    "### 1) What was the highest scoring movie in 1996?"
   ]
  },
  {
   "cell_type": "code",
   "execution_count": 3,
   "metadata": {},
   "outputs": [
    {
     "data": {
      "text/html": "<div>\n<style scoped>\n    .dataframe tbody tr th:only-of-type {\n        vertical-align: middle;\n    }\n\n    .dataframe tbody tr th {\n        vertical-align: top;\n    }\n\n    .dataframe thead th {\n        text-align: right;\n    }\n</style>\n<table border=\"1\" class=\"dataframe\">\n  <thead>\n    <tr style=\"text-align: right;\">\n      <th></th>\n      <th>title</th>\n      <th>year</th>\n      <th>rate</th>\n      <th>votes</th>\n      <th>length</th>\n      <th>category</th>\n    </tr>\n    <tr>\n      <th>id</th>\n      <th></th>\n      <th></th>\n      <th></th>\n      <th></th>\n      <th></th>\n      <th></th>\n    </tr>\n  </thead>\n  <tbody>\n    <tr>\n      <th>tt0116282</th>\n      <td>Fargo (1996)</td>\n      <td>1996</td>\n      <td>8.3</td>\n      <td>187498</td>\n      <td>98 mins.</td>\n      <td>Crime|Drama|Thriller</td>\n    </tr>\n  </tbody>\n</table>\n</div>",
      "text/plain": "                  title  year  rate   votes    length              category\nid                                                                         \ntt0116282  Fargo (1996)  1996   8.3  187498  98 mins.  Crime|Drama|Thriller"
     },
     "execution_count": 3,
     "metadata": {},
     "output_type": "execute_result"
    }
   ],
   "source": [
    "data[data['year'] == 1996].sort_values(by='rate').tail(1)"
   ]
  },
  {
   "cell_type": "markdown",
   "execution_count": null,
   "metadata": {},
   "outputs": [],
   "source": [
    "### 2) In what year was the highest rated movie of all time made?"
   ]
  },
  {
   "cell_type": "code",
   "execution_count": 34,
   "metadata": {},
   "outputs": [
    {
     "data": {
      "text/html": "<div>\n<style scoped>\n    .dataframe tbody tr th:only-of-type {\n        vertical-align: middle;\n    }\n\n    .dataframe tbody tr th {\n        vertical-align: top;\n    }\n\n    .dataframe thead th {\n        text-align: right;\n    }\n</style>\n<table border=\"1\" class=\"dataframe\">\n  <thead>\n    <tr style=\"text-align: right;\">\n      <th></th>\n      <th>title</th>\n      <th>year</th>\n      <th>rate</th>\n      <th>votes</th>\n      <th>length</th>\n      <th>category</th>\n    </tr>\n    <tr>\n      <th>id</th>\n      <th></th>\n      <th></th>\n      <th></th>\n      <th></th>\n      <th></th>\n      <th></th>\n    </tr>\n  </thead>\n  <tbody>\n    <tr>\n      <th>tt0111161</th>\n      <td>The Shawshank Redemption (1994)</td>\n      <td>1994</td>\n      <td>9.2</td>\n      <td>619479</td>\n      <td>142 mins.</td>\n      <td>Crime|Drama</td>\n    </tr>\n    <tr>\n      <th>tt0110912</th>\n      <td>Pulp Fiction (1994)</td>\n      <td>1994</td>\n      <td>9.2</td>\n      <td>490065</td>\n      <td>154 mins.</td>\n      <td>Crime|Thriller</td>\n    </tr>\n    <tr>\n      <th>tt0137523</th>\n      <td>Fight Club (1999)</td>\n      <td>1999</td>\n      <td>9.2</td>\n      <td>458173</td>\n      <td>139 mins.</td>\n      <td>Drama|Mystery|Thriller</td>\n    </tr>\n    <tr>\n      <th>tt0133093</th>\n      <td>The Matrix (1999)</td>\n      <td>1999</td>\n      <td>9.2</td>\n      <td>448114</td>\n      <td>136 mins.</td>\n      <td>Action|Adventure|Sci-Fi</td>\n    </tr>\n    <tr>\n      <th>tt1375666</th>\n      <td>Inception (2010)</td>\n      <td>2010</td>\n      <td>9.2</td>\n      <td>385149</td>\n      <td>148 mins.</td>\n      <td>Action|Adventure|Sci-Fi|Thriller</td>\n    </tr>\n    <tr>\n      <th>...</th>\n      <td>...</td>\n      <td>...</td>\n      <td>...</td>\n      <td>...</td>\n      <td>...</td>\n      <td>...</td>\n    </tr>\n    <tr>\n      <th>tt0807721</th>\n      <td>Meduzot (2007)</td>\n      <td>2007</td>\n      <td>9.2</td>\n      <td>1357</td>\n      <td>78 mins.</td>\n      <td>Drama</td>\n    </tr>\n    <tr>\n      <th>tt0339642</th>\n      <td>Daltry Calhoun (2005)</td>\n      <td>2005</td>\n      <td>9.2</td>\n      <td>1357</td>\n      <td>100 mins.</td>\n      <td>Comedy|Drama|Music|Romance</td>\n    </tr>\n    <tr>\n      <th>tt0060880</th>\n      <td>The Quiller Memorandum (1966)</td>\n      <td>1966</td>\n      <td>9.2</td>\n      <td>1356</td>\n      <td>104 mins.</td>\n      <td>Drama|Mystery|Thriller</td>\n    </tr>\n    <tr>\n      <th>tt0152836</th>\n      <td>Taal (1999)</td>\n      <td>1999</td>\n      <td>9.2</td>\n      <td>1356</td>\n      <td>179 mins.</td>\n      <td>Musical|Romance</td>\n    </tr>\n    <tr>\n      <th>tt0279977</th>\n      <td>The Navigators (2001)</td>\n      <td>2001</td>\n      <td>9.2</td>\n      <td>1356</td>\n      <td>96 mins.</td>\n      <td>Comedy|Drama</td>\n    </tr>\n  </tbody>\n</table>\n<p>10000 rows × 6 columns</p>\n</div>",
      "text/plain": "                                     title  year  rate   votes     length  \\\nid                                                                          \ntt0111161  The Shawshank Redemption (1994)  1994   9.2  619479  142 mins.   \ntt0110912              Pulp Fiction (1994)  1994   9.2  490065  154 mins.   \ntt0137523                Fight Club (1999)  1999   9.2  458173  139 mins.   \ntt0133093                The Matrix (1999)  1999   9.2  448114  136 mins.   \ntt1375666                 Inception (2010)  2010   9.2  385149  148 mins.   \n...                                    ...   ...   ...     ...        ...   \ntt0807721                   Meduzot (2007)  2007   9.2    1357   78 mins.   \ntt0339642            Daltry Calhoun (2005)  2005   9.2    1357  100 mins.   \ntt0060880    The Quiller Memorandum (1966)  1966   9.2    1356  104 mins.   \ntt0152836                      Taal (1999)  1999   9.2    1356  179 mins.   \ntt0279977            The Navigators (2001)  2001   9.2    1356   96 mins.   \n\n                                   category  \nid                                           \ntt0111161                       Crime|Drama  \ntt0110912                    Crime|Thriller  \ntt0137523            Drama|Mystery|Thriller  \ntt0133093           Action|Adventure|Sci-Fi  \ntt1375666  Action|Adventure|Sci-Fi|Thriller  \n...                                     ...  \ntt0807721                             Drama  \ntt0339642        Comedy|Drama|Music|Romance  \ntt0060880            Drama|Mystery|Thriller  \ntt0152836                   Musical|Romance  \ntt0279977                      Comedy|Drama  \n\n[10000 rows x 6 columns]"
     },
     "execution_count": 34,
     "metadata": {},
     "output_type": "execute_result"
    }
   ],
   "source": [
    "data[data.rate == data.rate.max()] \n",
    "\n",
    "# data.sort_values(by='rate', ascending=False).head(1)"
   ]
  },
  {
   "cell_type": "markdown",
   "execution_count": null,
   "metadata": {},
   "outputs": [],
   "source": [
    "### 3) What five movies have the most votes ever?"
   ]
  },
  {
   "cell_type": "code",
   "execution_count": 28,
   "metadata": {},
   "outputs": [
    {
     "data": {
      "text/html": "<div>\n<style scoped>\n    .dataframe tbody tr th:only-of-type {\n        vertical-align: middle;\n    }\n\n    .dataframe tbody tr th {\n        vertical-align: top;\n    }\n\n    .dataframe thead th {\n        text-align: right;\n    }\n</style>\n<table border=\"1\" class=\"dataframe\">\n  <thead>\n    <tr style=\"text-align: right;\">\n      <th></th>\n      <th>title</th>\n      <th>year</th>\n      <th>rate</th>\n      <th>votes</th>\n      <th>length</th>\n      <th>category</th>\n    </tr>\n    <tr>\n      <th>id</th>\n      <th></th>\n      <th></th>\n      <th></th>\n      <th></th>\n      <th></th>\n      <th></th>\n    </tr>\n  </thead>\n  <tbody>\n    <tr>\n      <th>tt0111161</th>\n      <td>The Shawshank Redemption (1994)</td>\n      <td>1994</td>\n      <td>9.2</td>\n      <td>619479</td>\n      <td>142 mins.</td>\n      <td>Crime|Drama</td>\n    </tr>\n    <tr>\n      <th>tt0468569</th>\n      <td>The Dark Knight (2008)</td>\n      <td>2008</td>\n      <td>9.2</td>\n      <td>555122</td>\n      <td>152 mins.</td>\n      <td>Action|Crime|Drama|Thriller</td>\n    </tr>\n    <tr>\n      <th>tt0110912</th>\n      <td>Pulp Fiction (1994)</td>\n      <td>1994</td>\n      <td>9.2</td>\n      <td>490065</td>\n      <td>154 mins.</td>\n      <td>Crime|Thriller</td>\n    </tr>\n    <tr>\n      <th>tt0068646</th>\n      <td>The Godfather (1972)</td>\n      <td>1972</td>\n      <td>9.2</td>\n      <td>474189</td>\n      <td>175 mins.</td>\n      <td>Crime|Drama</td>\n    </tr>\n    <tr>\n      <th>tt0137523</th>\n      <td>Fight Club (1999)</td>\n      <td>1999</td>\n      <td>9.2</td>\n      <td>458173</td>\n      <td>139 mins.</td>\n      <td>Drama|Mystery|Thriller</td>\n    </tr>\n  </tbody>\n</table>\n</div>",
      "text/plain": "                                     title  year  rate   votes     length  \\\nid                                                                          \ntt0111161  The Shawshank Redemption (1994)  1994   9.2  619479  142 mins.   \ntt0468569           The Dark Knight (2008)  2008   9.2  555122  152 mins.   \ntt0110912              Pulp Fiction (1994)  1994   9.2  490065  154 mins.   \ntt0068646             The Godfather (1972)  1972   9.2  474189  175 mins.   \ntt0137523                Fight Club (1999)  1999   9.2  458173  139 mins.   \n\n                              category  \nid                                      \ntt0111161                  Crime|Drama  \ntt0468569  Action|Crime|Drama|Thriller  \ntt0110912               Crime|Thriller  \ntt0068646                  Crime|Drama  \ntt0137523       Drama|Mystery|Thriller  "
     },
     "execution_count": 28,
     "metadata": {},
     "output_type": "execute_result"
    }
   ],
   "source": [
    "data.sort_values(by=\"votes\", ascending=False).head()"
   ]
  },
  {
   "cell_type": "markdown",
   "execution_count": null,
   "metadata": {},
   "outputs": [],
   "source": [
    "### What year in the 1960s had the highest average movie rating?"
   ]
  },
  {
   "cell_type": "code",
   "execution_count": 97,
   "metadata": {},
   "outputs": [
    {
     "data": {
      "text/html": "<div>\n<style scoped>\n    .dataframe tbody tr th:only-of-type {\n        vertical-align: middle;\n    }\n\n    .dataframe tbody tr th {\n        vertical-align: top;\n    }\n\n    .dataframe thead th {\n        text-align: right;\n    }\n</style>\n<table border=\"1\" class=\"dataframe\">\n  <thead>\n    <tr style=\"text-align: right;\">\n      <th></th>\n      <th>rate</th>\n    </tr>\n    <tr>\n      <th>year</th>\n      <th></th>\n    </tr>\n  </thead>\n  <tbody>\n    <tr>\n      <th>1960</th>\n      <td>9.2</td>\n    </tr>\n    <tr>\n      <th>1961</th>\n      <td>9.2</td>\n    </tr>\n    <tr>\n      <th>1962</th>\n      <td>9.2</td>\n    </tr>\n    <tr>\n      <th>1963</th>\n      <td>9.2</td>\n    </tr>\n    <tr>\n      <th>1964</th>\n      <td>9.2</td>\n    </tr>\n    <tr>\n      <th>1965</th>\n      <td>9.2</td>\n    </tr>\n    <tr>\n      <th>1966</th>\n      <td>9.2</td>\n    </tr>\n    <tr>\n      <th>1967</th>\n      <td>9.2</td>\n    </tr>\n    <tr>\n      <th>1968</th>\n      <td>9.2</td>\n    </tr>\n    <tr>\n      <th>1969</th>\n      <td>9.2</td>\n    </tr>\n  </tbody>\n</table>\n</div>",
      "text/plain": "      rate\nyear      \n1960   9.2\n1961   9.2\n1962   9.2\n1963   9.2\n1964   9.2\n1965   9.2\n1966   9.2\n1967   9.2\n1968   9.2\n1969   9.2"
     },
     "execution_count": 97,
     "metadata": {},
     "output_type": "execute_result"
    }
   ],
   "source": [
    "data[(data.year >= 1960) & (data.year < 1970)].groupby(data['year'])[['rate']].mean()\n"
   ]
  }
 ]
}